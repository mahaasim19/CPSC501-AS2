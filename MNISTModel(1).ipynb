{
  "nbformat": 4,
  "nbformat_minor": 0,
  "metadata": {
    "colab": {
      "name": "MNISTModel.ipynb",
      "provenance": [],
      "collapsed_sections": []
    },
    "kernelspec": {
      "name": "python3",
      "display_name": "Python 3"
    }
  },
  "cells": [
    {
      "cell_type": "code",
      "metadata": {
        "id": "m4eZDEIAx0aH",
        "colab_type": "code",
        "outputId": "dd358374-27e5-4e56-dfe1-740f12698f87",
        "colab": {
          "base_uri": "https://localhost:8080/",
          "height": 34
        }
      },
      "source": [
        "try:\n",
        "  # %tensorflow_version only exists in Colab.\n",
        "  %tensorflow_version 2.x\n",
        "except Exception:\n",
        "  pass"
      ],
      "execution_count": 0,
      "outputs": [
        {
          "output_type": "stream",
          "text": [
            "TensorFlow 2.x selected.\n"
          ],
          "name": "stdout"
        }
      ]
    },
    {
      "cell_type": "code",
      "metadata": {
        "id": "ITCcIDcJx02Q",
        "colab_type": "code",
        "outputId": "790646a1-c37d-4913-9d6d-0424de6666c3",
        "colab": {
          "base_uri": "https://localhost:8080/",
          "height": 895
        }
      },
      "source": [
        "#For Google Collab\n",
        "#try:\n",
        "#  # %tensorflow_version only exists in Colab.\n",
        "#  %tensorflow_version 2.x\n",
        "#except Exception:\n",
        "#  pass\n",
        "\n",
        "import tensorflow as tf\n",
        "\n",
        "#batch_size = 50\n",
        "\n",
        "\n",
        "print(\"--Get data--\")\n",
        "mnist = tf.keras.datasets.mnist\n",
        "(x_train, y_train), (x_test, y_test) = mnist.load_data()\n",
        "\n",
        "print(\"--Process data--\")\n",
        "x_train, x_test = x_train / 255.0, x_test / 255.0\n",
        "\n",
        "print(\"--Make model--\")\n",
        "model = tf.keras.models.Sequential([\n",
        "\n",
        "  #tf.keras.layers.Conv2D(32, kernel_size = (3,3), activation = 'relu', input_shape = (28, 28, 1)),\n",
        "  #tf.keras.layers.MaxPooling2D(pool_size=(2, 2)),\n",
        "  #tf.keras.layers.Dropout(0.30),\n",
        "  #tf.keras.layers.Conv2D(64, kernel_size = (3,3), activation = 'relu'),\n",
        "  #tf.keras.layers.MaxPooling2D(pool_size=(2, 2)),\n",
        "  #tf.keras.layers.Conv2D(128, kernel_size = (3,3), activation = 'relu'),\n",
        "  tf.keras.layers.Flatten(),\n",
        "  tf.keras.layers.Dense(256, activation='elu'),\n",
        "   tf.keras.layers.Dense(200, activation='elu'),\n",
        "  #tf.keras.layers.Dropout(0.30),\n",
        "  tf.keras.layers.Dense(10, activation='softmax')\n",
        "\n",
        "])\n",
        "model.compile(optimizer='adam', loss='sparse_categorical_crossentropy', metrics=['accuracy'])\n",
        "\n",
        "print(\"--Fit model--\")\n",
        "model.fit(x_train, y_train, epochs = 20, verbose=1)\n",
        "\n",
        "print(\"--Evaluate model--\")\n",
        "model_loss, model_acc = model.evaluate(x_test, y_test, verbose=2)\n",
        "print(f\"Model Loss:    {model_loss:.2f}\")\n",
        "print(f\"Model Accuray: {model_acc*100:.1f}%\")\n",
        "\n",
        "#Save Model\n"
      ],
      "execution_count": 0,
      "outputs": [
        {
          "output_type": "stream",
          "text": [
            "--Get data--\n",
            "--Process data--\n",
            "--Make model--\n",
            "--Fit model--\n",
            "Train on 60000 samples\n",
            "Epoch 1/20\n",
            "60000/60000 [==============================] - 8s 131us/sample - loss: 0.2407 - acc: 0.9276\n",
            "Epoch 2/20\n",
            "60000/60000 [==============================] - 8s 141us/sample - loss: 0.1067 - acc: 0.9669\n",
            "Epoch 3/20\n",
            "60000/60000 [==============================] - 7s 113us/sample - loss: 0.0765 - acc: 0.9751\n",
            "Epoch 4/20\n",
            "60000/60000 [==============================] - 7s 117us/sample - loss: 0.0563 - acc: 0.9821\n",
            "Epoch 5/20\n",
            "60000/60000 [==============================] - 7s 114us/sample - loss: 0.0463 - acc: 0.9848\n",
            "Epoch 6/20\n",
            "60000/60000 [==============================] - 9s 154us/sample - loss: 0.0386 - acc: 0.9874\n",
            "Epoch 7/20\n",
            "60000/60000 [==============================] - 13s 214us/sample - loss: 0.0312 - acc: 0.9897\n",
            "Epoch 8/20\n",
            "60000/60000 [==============================] - 13s 211us/sample - loss: 0.0284 - acc: 0.9907\n",
            "Epoch 9/20\n",
            "60000/60000 [==============================] - 9s 149us/sample - loss: 0.0241 - acc: 0.9920\n",
            "Epoch 10/20\n",
            "60000/60000 [==============================] - 10s 163us/sample - loss: 0.0231 - acc: 0.9924\n",
            "Epoch 11/20\n",
            "60000/60000 [==============================] - 12s 194us/sample - loss: 0.0217 - acc: 0.9932\n",
            "Epoch 12/20\n",
            "60000/60000 [==============================] - 7s 118us/sample - loss: 0.0194 - acc: 0.9939\n",
            "Epoch 13/20\n",
            "60000/60000 [==============================] - 8s 139us/sample - loss: 0.0164 - acc: 0.9949\n",
            "Epoch 14/20\n",
            "60000/60000 [==============================] - 7s 124us/sample - loss: 0.0177 - acc: 0.9946\n",
            "Epoch 15/20\n",
            "60000/60000 [==============================] - 7s 113us/sample - loss: 0.0146 - acc: 0.9954\n",
            "Epoch 16/20\n",
            "60000/60000 [==============================] - 7s 116us/sample - loss: 0.0166 - acc: 0.9952\n",
            "Epoch 17/20\n",
            "60000/60000 [==============================] - 11s 179us/sample - loss: 0.0157 - acc: 0.9953\n",
            "Epoch 18/20\n",
            "60000/60000 [==============================] - 13s 219us/sample - loss: 0.0135 - acc: 0.9961\n",
            "Epoch 19/20\n",
            "60000/60000 [==============================] - 13s 209us/sample - loss: 0.0143 - acc: 0.9958\n",
            "Epoch 20/20\n",
            "60000/60000 [==============================] - 7s 125us/sample - loss: 0.0129 - acc: 0.9963\n",
            "--Evaluate model--\n",
            "10000/10000 - 0s - loss: 0.1349 - acc: 0.9816\n",
            "Model Loss:    0.13\n",
            "Model Accuray: 98.2%\n"
          ],
          "name": "stdout"
        }
      ]
    },
    {
      "cell_type": "code",
      "metadata": {
        "id": "uqKuNbSJEaWc",
        "colab_type": "code",
        "colab": {}
      },
      "source": [
        "#Save Model to MNIST.h5\n",
        "model.save('MNIST.h5')"
      ],
      "execution_count": 0,
      "outputs": []
    },
    {
      "cell_type": "code",
      "metadata": {
        "id": "0Vc4ePZwERJW",
        "colab_type": "code",
        "colab": {}
      },
      "source": [
        "from google.colab import files\n",
        "files.download('MNIST.h5')"
      ],
      "execution_count": 0,
      "outputs": []
    }
  ]
}